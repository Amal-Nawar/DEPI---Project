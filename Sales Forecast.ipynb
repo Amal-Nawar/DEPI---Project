{
 "cells": [
  {
   "cell_type": "code",
   "execution_count": 1,
   "id": "0b6453ac-c351-487d-b070-22ee9a4d29ce",
   "metadata": {},
   "outputs": [],
   "source": [
    "import numpy as np\n",
    "import pandas as pd\n",
    "import matplotlib.pyplot as plt\n",
    "from sklearn.linear_model import LinearRegression\n",
    "from sklearn.preprocessing import MinMaxScaler\n",
    "from sklearn.metrics import mean_squared_error, mean_absolute_error, r2_score #for evaluation metrices\n"
   ]
  },
  {
   "cell_type": "code",
   "execution_count": 2,
   "id": "ab6ceaea-038c-45b8-945d-0392453895ab",
   "metadata": {},
   "outputs": [
    {
     "name": "stdout",
     "output_type": "stream",
     "text": [
      "<class 'pandas.core.frame.DataFrame'>\n",
      "RangeIndex: 2823 entries, 0 to 2822\n",
      "Data columns (total 19 columns):\n",
      " #   Column             Non-Null Count  Dtype  \n",
      "---  ------             --------------  -----  \n",
      " 0   Unnamed: 0         2823 non-null   int64  \n",
      " 1   ORDER NUMBER       2823 non-null   int64  \n",
      " 2   QUANTITY ORDERED   2823 non-null   int64  \n",
      " 3   PRICE EACH         2823 non-null   float64\n",
      " 4   ORDER LINE NUMBER  2823 non-null   int64  \n",
      " 5   SALES              2823 non-null   float64\n",
      " 6   ORDER DATE         2823 non-null   object \n",
      " 7   STATUS             2823 non-null   object \n",
      " 8   QTR_ID             2823 non-null   int64  \n",
      " 9   MONTH_ID           2823 non-null   int64  \n",
      " 10  YEAR_ID            2823 non-null   int64  \n",
      " 11  PRODUCTLINE        2823 non-null   object \n",
      " 12  MSRP               2823 non-null   int64  \n",
      " 13  PRODUCTCODE        2823 non-null   object \n",
      " 14  CUSTOMER NAME      2823 non-null   object \n",
      " 15  CITY               2823 non-null   object \n",
      " 16  COUNTRY            2823 non-null   object \n",
      " 17  TERRITORY          2823 non-null   object \n",
      " 18  DEALSIZE           2823 non-null   object \n",
      "dtypes: float64(2), int64(8), object(9)\n",
      "memory usage: 419.2+ KB\n"
     ]
    }
   ],
   "source": [
    "#import the data\n",
    "store_sales=pd.read_csv('data.csv')\n",
    "store_sales.info()"
   ]
  },
  {
   "cell_type": "code",
   "execution_count": 3,
   "id": "832d02bb-426d-4248-90dd-9eeaf641afae",
   "metadata": {},
   "outputs": [],
   "source": [
    "store_sales=store_sales.drop('Unnamed: 0',axis=1)"
   ]
  },
  {
   "cell_type": "code",
   "execution_count": 4,
   "id": "6170a48c-9e44-4c5c-85c4-087edbfb76f5",
   "metadata": {},
   "outputs": [
    {
     "data": {
      "text/html": [
       "<div>\n",
       "<style scoped>\n",
       "    .dataframe tbody tr th:only-of-type {\n",
       "        vertical-align: middle;\n",
       "    }\n",
       "\n",
       "    .dataframe tbody tr th {\n",
       "        vertical-align: top;\n",
       "    }\n",
       "\n",
       "    .dataframe thead th {\n",
       "        text-align: right;\n",
       "    }\n",
       "</style>\n",
       "<table border=\"1\" class=\"dataframe\">\n",
       "  <thead>\n",
       "    <tr style=\"text-align: right;\">\n",
       "      <th></th>\n",
       "      <th>ORDER NUMBER</th>\n",
       "      <th>QUANTITY ORDERED</th>\n",
       "      <th>PRICE EACH</th>\n",
       "      <th>ORDER LINE NUMBER</th>\n",
       "      <th>SALES</th>\n",
       "      <th>ORDER DATE</th>\n",
       "      <th>STATUS</th>\n",
       "      <th>QTR_ID</th>\n",
       "      <th>MONTH_ID</th>\n",
       "      <th>YEAR_ID</th>\n",
       "      <th>PRODUCTLINE</th>\n",
       "      <th>MSRP</th>\n",
       "      <th>PRODUCTCODE</th>\n",
       "      <th>CUSTOMER NAME</th>\n",
       "      <th>CITY</th>\n",
       "      <th>COUNTRY</th>\n",
       "      <th>TERRITORY</th>\n",
       "      <th>DEALSIZE</th>\n",
       "    </tr>\n",
       "  </thead>\n",
       "  <tbody>\n",
       "    <tr>\n",
       "      <th>0</th>\n",
       "      <td>10107</td>\n",
       "      <td>30</td>\n",
       "      <td>95.70</td>\n",
       "      <td>2</td>\n",
       "      <td>2871.00</td>\n",
       "      <td>2003-02-24</td>\n",
       "      <td>Shipped</td>\n",
       "      <td>1</td>\n",
       "      <td>2</td>\n",
       "      <td>2003</td>\n",
       "      <td>Motorcycles</td>\n",
       "      <td>95</td>\n",
       "      <td>S10_1678</td>\n",
       "      <td>Land of Toys Inc.</td>\n",
       "      <td>NYC</td>\n",
       "      <td>USA</td>\n",
       "      <td>AMER</td>\n",
       "      <td>Small</td>\n",
       "    </tr>\n",
       "    <tr>\n",
       "      <th>1</th>\n",
       "      <td>10121</td>\n",
       "      <td>34</td>\n",
       "      <td>81.35</td>\n",
       "      <td>5</td>\n",
       "      <td>2765.90</td>\n",
       "      <td>2003-05-07</td>\n",
       "      <td>Shipped</td>\n",
       "      <td>2</td>\n",
       "      <td>5</td>\n",
       "      <td>2003</td>\n",
       "      <td>Motorcycles</td>\n",
       "      <td>95</td>\n",
       "      <td>S10_1678</td>\n",
       "      <td>Reims Collectables</td>\n",
       "      <td>Reims</td>\n",
       "      <td>France</td>\n",
       "      <td>EMEA</td>\n",
       "      <td>Small</td>\n",
       "    </tr>\n",
       "    <tr>\n",
       "      <th>2</th>\n",
       "      <td>10134</td>\n",
       "      <td>41</td>\n",
       "      <td>94.74</td>\n",
       "      <td>2</td>\n",
       "      <td>3884.34</td>\n",
       "      <td>2003-07-01</td>\n",
       "      <td>Shipped</td>\n",
       "      <td>3</td>\n",
       "      <td>7</td>\n",
       "      <td>2003</td>\n",
       "      <td>Motorcycles</td>\n",
       "      <td>95</td>\n",
       "      <td>S10_1678</td>\n",
       "      <td>Lyon Souveniers</td>\n",
       "      <td>Paris</td>\n",
       "      <td>France</td>\n",
       "      <td>EMEA</td>\n",
       "      <td>Medium</td>\n",
       "    </tr>\n",
       "    <tr>\n",
       "      <th>3</th>\n",
       "      <td>10145</td>\n",
       "      <td>45</td>\n",
       "      <td>83.26</td>\n",
       "      <td>6</td>\n",
       "      <td>3746.70</td>\n",
       "      <td>2003-08-25</td>\n",
       "      <td>Shipped</td>\n",
       "      <td>3</td>\n",
       "      <td>8</td>\n",
       "      <td>2003</td>\n",
       "      <td>Motorcycles</td>\n",
       "      <td>95</td>\n",
       "      <td>S10_1678</td>\n",
       "      <td>Toys4GrownUps.com</td>\n",
       "      <td>Pasadena</td>\n",
       "      <td>USA</td>\n",
       "      <td>AMER</td>\n",
       "      <td>Medium</td>\n",
       "    </tr>\n",
       "    <tr>\n",
       "      <th>4</th>\n",
       "      <td>10159</td>\n",
       "      <td>49</td>\n",
       "      <td>100.00</td>\n",
       "      <td>14</td>\n",
       "      <td>5205.27</td>\n",
       "      <td>2003-10-10</td>\n",
       "      <td>Shipped</td>\n",
       "      <td>4</td>\n",
       "      <td>10</td>\n",
       "      <td>2003</td>\n",
       "      <td>Motorcycles</td>\n",
       "      <td>95</td>\n",
       "      <td>S10_1678</td>\n",
       "      <td>Corporate Gift Ideas Co.</td>\n",
       "      <td>San Francisco</td>\n",
       "      <td>USA</td>\n",
       "      <td>AMER</td>\n",
       "      <td>Medium</td>\n",
       "    </tr>\n",
       "  </tbody>\n",
       "</table>\n",
       "</div>"
      ],
      "text/plain": [
       "   ORDER NUMBER  QUANTITY ORDERED  PRICE EACH  ORDER LINE NUMBER    SALES  \\\n",
       "0         10107                30       95.70                  2  2871.00   \n",
       "1         10121                34       81.35                  5  2765.90   \n",
       "2         10134                41       94.74                  2  3884.34   \n",
       "3         10145                45       83.26                  6  3746.70   \n",
       "4         10159                49      100.00                 14  5205.27   \n",
       "\n",
       "   ORDER DATE   STATUS  QTR_ID  MONTH_ID  YEAR_ID  PRODUCTLINE  MSRP  \\\n",
       "0  2003-02-24  Shipped       1         2     2003  Motorcycles    95   \n",
       "1  2003-05-07  Shipped       2         5     2003  Motorcycles    95   \n",
       "2  2003-07-01  Shipped       3         7     2003  Motorcycles    95   \n",
       "3  2003-08-25  Shipped       3         8     2003  Motorcycles    95   \n",
       "4  2003-10-10  Shipped       4        10     2003  Motorcycles    95   \n",
       "\n",
       "  PRODUCTCODE             CUSTOMER NAME           CITY COUNTRY TERRITORY  \\\n",
       "0    S10_1678         Land of Toys Inc.            NYC     USA      AMER   \n",
       "1    S10_1678        Reims Collectables          Reims  France      EMEA   \n",
       "2    S10_1678           Lyon Souveniers          Paris  France      EMEA   \n",
       "3    S10_1678         Toys4GrownUps.com       Pasadena     USA      AMER   \n",
       "4    S10_1678  Corporate Gift Ideas Co.  San Francisco     USA      AMER   \n",
       "\n",
       "  DEALSIZE  \n",
       "0    Small  \n",
       "1    Small  \n",
       "2   Medium  \n",
       "3   Medium  \n",
       "4   Medium  "
      ]
     },
     "execution_count": 4,
     "metadata": {},
     "output_type": "execute_result"
    }
   ],
   "source": [
    "store_sales.head()"
   ]
  },
  {
   "cell_type": "code",
   "execution_count": 5,
   "id": "4f655d99-79bb-437d-b2af-a8123cdb0e6e",
   "metadata": {},
   "outputs": [],
   "source": [
    "store_sales=store_sales[['ORDER DATE','SALES']] # we just need the date and sales to predict values"
   ]
  },
  {
   "cell_type": "code",
   "execution_count": 6,
   "id": "b9355026-35fd-4f1c-a8d0-518f3d3e5ea0",
   "metadata": {},
   "outputs": [
    {
     "name": "stdout",
     "output_type": "stream",
     "text": [
      "<class 'pandas.core.frame.DataFrame'>\n",
      "RangeIndex: 2823 entries, 0 to 2822\n",
      "Data columns (total 2 columns):\n",
      " #   Column      Non-Null Count  Dtype  \n",
      "---  ------      --------------  -----  \n",
      " 0   ORDER DATE  2823 non-null   object \n",
      " 1   SALES       2823 non-null   float64\n",
      "dtypes: float64(1), object(1)\n",
      "memory usage: 44.2+ KB\n"
     ]
    }
   ],
   "source": [
    "store_sales.info()"
   ]
  },
  {
   "cell_type": "code",
   "execution_count": 7,
   "id": "9a6a6d39-5c36-4b82-b246-9123f3b0cd0f",
   "metadata": {},
   "outputs": [],
   "source": [
    "store_sales['ORDER DATE']=pd.to_datetime(store_sales['ORDER DATE']) #converting date to datetime format"
   ]
  },
  {
   "cell_type": "code",
   "execution_count": 8,
   "id": "92f6da37-4428-4a1b-97b0-d10357ce80df",
   "metadata": {},
   "outputs": [
    {
     "name": "stdout",
     "output_type": "stream",
     "text": [
      "<class 'pandas.core.frame.DataFrame'>\n",
      "RangeIndex: 2823 entries, 0 to 2822\n",
      "Data columns (total 2 columns):\n",
      " #   Column      Non-Null Count  Dtype         \n",
      "---  ------      --------------  -----         \n",
      " 0   ORDER DATE  2823 non-null   datetime64[ns]\n",
      " 1   SALES       2823 non-null   float64       \n",
      "dtypes: datetime64[ns](1), float64(1)\n",
      "memory usage: 44.2 KB\n"
     ]
    }
   ],
   "source": [
    "store_sales.info()"
   ]
  },
  {
   "cell_type": "code",
   "execution_count": 9,
   "id": "d26e5ade-cf66-4c76-9279-8e8f326b9521",
   "metadata": {},
   "outputs": [
    {
     "data": {
      "text/plain": [
       "0      2003-02-24\n",
       "1      2003-05-07\n",
       "2      2003-07-01\n",
       "3      2003-08-25\n",
       "4      2003-10-10\n",
       "          ...    \n",
       "2818   2004-12-02\n",
       "2819   2005-01-31\n",
       "2820   2005-03-01\n",
       "2821   2005-03-28\n",
       "2822   2005-05-06\n",
       "Name: ORDER DATE, Length: 2823, dtype: datetime64[ns]"
      ]
     },
     "execution_count": 9,
     "metadata": {},
     "output_type": "execute_result"
    }
   ],
   "source": [
    "store_sales['ORDER DATE']"
   ]
  },
  {
   "cell_type": "code",
   "execution_count": 10,
   "id": "9483c6be-9d45-4987-840d-21d993b7558c",
   "metadata": {},
   "outputs": [],
   "source": [
    "#we will train the model to predict the sales in next month so we will convert the date to period of month \n",
    "#and then we gonna add the items sales in each month\n",
    "store_sales['ORDER DATE']=store_sales['ORDER DATE'].dt.to_period('M')"
   ]
  },
  {
   "cell_type": "code",
   "execution_count": 11,
   "id": "4ede8137-6d1b-4ee2-885f-8991b84d8611",
   "metadata": {},
   "outputs": [
    {
     "data": {
      "text/plain": [
       "0       2003-02\n",
       "1       2003-05\n",
       "2       2003-07\n",
       "3       2003-08\n",
       "4       2003-10\n",
       "         ...   \n",
       "2818    2004-12\n",
       "2819    2005-01\n",
       "2820    2005-03\n",
       "2821    2005-03\n",
       "2822    2005-05\n",
       "Name: ORDER DATE, Length: 2823, dtype: period[M]"
      ]
     },
     "execution_count": 11,
     "metadata": {},
     "output_type": "execute_result"
    }
   ],
   "source": [
    "store_sales['ORDER DATE']"
   ]
  },
  {
   "cell_type": "code",
   "execution_count": 12,
   "id": "35aee134-6887-40a6-a248-1b2a140ee824",
   "metadata": {},
   "outputs": [],
   "source": [
    "monthly_sales=store_sales.groupby('ORDER DATE').sum().reset_index()"
   ]
  },
  {
   "cell_type": "code",
   "execution_count": 13,
   "id": "8d3476d0-52e6-4ff3-b990-3e96099b5a9b",
   "metadata": {},
   "outputs": [
    {
     "data": {
      "text/html": [
       "<div>\n",
       "<style scoped>\n",
       "    .dataframe tbody tr th:only-of-type {\n",
       "        vertical-align: middle;\n",
       "    }\n",
       "\n",
       "    .dataframe tbody tr th {\n",
       "        vertical-align: top;\n",
       "    }\n",
       "\n",
       "    .dataframe thead th {\n",
       "        text-align: right;\n",
       "    }\n",
       "</style>\n",
       "<table border=\"1\" class=\"dataframe\">\n",
       "  <thead>\n",
       "    <tr style=\"text-align: right;\">\n",
       "      <th></th>\n",
       "      <th>ORDER DATE</th>\n",
       "      <th>SALES</th>\n",
       "    </tr>\n",
       "  </thead>\n",
       "  <tbody>\n",
       "    <tr>\n",
       "      <th>0</th>\n",
       "      <td>2003-01</td>\n",
       "      <td>129753.60</td>\n",
       "    </tr>\n",
       "    <tr>\n",
       "      <th>1</th>\n",
       "      <td>2003-02</td>\n",
       "      <td>140836.19</td>\n",
       "    </tr>\n",
       "    <tr>\n",
       "      <th>2</th>\n",
       "      <td>2003-03</td>\n",
       "      <td>174504.90</td>\n",
       "    </tr>\n",
       "    <tr>\n",
       "      <th>3</th>\n",
       "      <td>2003-04</td>\n",
       "      <td>201609.55</td>\n",
       "    </tr>\n",
       "    <tr>\n",
       "      <th>4</th>\n",
       "      <td>2003-05</td>\n",
       "      <td>192673.11</td>\n",
       "    </tr>\n",
       "    <tr>\n",
       "      <th>5</th>\n",
       "      <td>2003-06</td>\n",
       "      <td>168082.56</td>\n",
       "    </tr>\n",
       "    <tr>\n",
       "      <th>6</th>\n",
       "      <td>2003-07</td>\n",
       "      <td>187731.88</td>\n",
       "    </tr>\n",
       "    <tr>\n",
       "      <th>7</th>\n",
       "      <td>2003-08</td>\n",
       "      <td>197809.30</td>\n",
       "    </tr>\n",
       "    <tr>\n",
       "      <th>8</th>\n",
       "      <td>2003-09</td>\n",
       "      <td>263973.36</td>\n",
       "    </tr>\n",
       "    <tr>\n",
       "      <th>9</th>\n",
       "      <td>2003-10</td>\n",
       "      <td>568290.97</td>\n",
       "    </tr>\n",
       "  </tbody>\n",
       "</table>\n",
       "</div>"
      ],
      "text/plain": [
       "  ORDER DATE      SALES\n",
       "0    2003-01  129753.60\n",
       "1    2003-02  140836.19\n",
       "2    2003-03  174504.90\n",
       "3    2003-04  201609.55\n",
       "4    2003-05  192673.11\n",
       "5    2003-06  168082.56\n",
       "6    2003-07  187731.88\n",
       "7    2003-08  197809.30\n",
       "8    2003-09  263973.36\n",
       "9    2003-10  568290.97"
      ]
     },
     "execution_count": 13,
     "metadata": {},
     "output_type": "execute_result"
    }
   ],
   "source": [
    "monthly_sales.head(10)"
   ]
  },
  {
   "cell_type": "code",
   "execution_count": 14,
   "id": "84de6866-b93c-4ce1-adf3-8a25abd8c207",
   "metadata": {},
   "outputs": [
    {
     "data": {
      "text/plain": [
       "(29, 2)"
      ]
     },
     "execution_count": 14,
     "metadata": {},
     "output_type": "execute_result"
    }
   ],
   "source": [
    "monthly_sales.shape"
   ]
  },
  {
   "cell_type": "code",
   "execution_count": 15,
   "id": "283e3f4e-0a27-4f3d-a199-d733aa04407e",
   "metadata": {},
   "outputs": [],
   "source": [
    "#convert the resulting to timestamp datatype\n",
    "monthly_sales['ORDER DATE']=monthly_sales['ORDER DATE'].dt.to_timestamp()"
   ]
  },
  {
   "cell_type": "code",
   "execution_count": 16,
   "id": "8960cc3f-40ba-4d2d-9d4c-a68caccfff7c",
   "metadata": {},
   "outputs": [
    {
     "data": {
      "text/html": [
       "<div>\n",
       "<style scoped>\n",
       "    .dataframe tbody tr th:only-of-type {\n",
       "        vertical-align: middle;\n",
       "    }\n",
       "\n",
       "    .dataframe tbody tr th {\n",
       "        vertical-align: top;\n",
       "    }\n",
       "\n",
       "    .dataframe thead th {\n",
       "        text-align: right;\n",
       "    }\n",
       "</style>\n",
       "<table border=\"1\" class=\"dataframe\">\n",
       "  <thead>\n",
       "    <tr style=\"text-align: right;\">\n",
       "      <th></th>\n",
       "      <th>ORDER DATE</th>\n",
       "      <th>SALES</th>\n",
       "    </tr>\n",
       "  </thead>\n",
       "  <tbody>\n",
       "    <tr>\n",
       "      <th>0</th>\n",
       "      <td>2003-01-01</td>\n",
       "      <td>129753.60</td>\n",
       "    </tr>\n",
       "    <tr>\n",
       "      <th>1</th>\n",
       "      <td>2003-02-01</td>\n",
       "      <td>140836.19</td>\n",
       "    </tr>\n",
       "    <tr>\n",
       "      <th>2</th>\n",
       "      <td>2003-03-01</td>\n",
       "      <td>174504.90</td>\n",
       "    </tr>\n",
       "    <tr>\n",
       "      <th>3</th>\n",
       "      <td>2003-04-01</td>\n",
       "      <td>201609.55</td>\n",
       "    </tr>\n",
       "    <tr>\n",
       "      <th>4</th>\n",
       "      <td>2003-05-01</td>\n",
       "      <td>192673.11</td>\n",
       "    </tr>\n",
       "    <tr>\n",
       "      <th>5</th>\n",
       "      <td>2003-06-01</td>\n",
       "      <td>168082.56</td>\n",
       "    </tr>\n",
       "    <tr>\n",
       "      <th>6</th>\n",
       "      <td>2003-07-01</td>\n",
       "      <td>187731.88</td>\n",
       "    </tr>\n",
       "    <tr>\n",
       "      <th>7</th>\n",
       "      <td>2003-08-01</td>\n",
       "      <td>197809.30</td>\n",
       "    </tr>\n",
       "    <tr>\n",
       "      <th>8</th>\n",
       "      <td>2003-09-01</td>\n",
       "      <td>263973.36</td>\n",
       "    </tr>\n",
       "    <tr>\n",
       "      <th>9</th>\n",
       "      <td>2003-10-01</td>\n",
       "      <td>568290.97</td>\n",
       "    </tr>\n",
       "  </tbody>\n",
       "</table>\n",
       "</div>"
      ],
      "text/plain": [
       "  ORDER DATE      SALES\n",
       "0 2003-01-01  129753.60\n",
       "1 2003-02-01  140836.19\n",
       "2 2003-03-01  174504.90\n",
       "3 2003-04-01  201609.55\n",
       "4 2003-05-01  192673.11\n",
       "5 2003-06-01  168082.56\n",
       "6 2003-07-01  187731.88\n",
       "7 2003-08-01  197809.30\n",
       "8 2003-09-01  263973.36\n",
       "9 2003-10-01  568290.97"
      ]
     },
     "execution_count": 16,
     "metadata": {},
     "output_type": "execute_result"
    }
   ],
   "source": [
    "monthly_sales.head(10)"
   ]
  },
  {
   "cell_type": "code",
   "execution_count": 17,
   "id": "93c32b8d-4fee-4ac9-82fd-c1efaebcc87a",
   "metadata": {},
   "outputs": [
    {
     "data": {
      "image/png": "[encoded data removed]",
      "text/plain": [
       "<Figure size 1500x500 with 1 Axes>"
      ]
     },
     "metadata": {},
     "output_type": "display_data"
    }
   ],
   "source": [
    "#visualize monthly sales for items\n",
    "plt.figure(figsize=(15, 5))\n",
    "plt.plot(monthly_sales['ORDER DATE'], monthly_sales['SALES'],color='#18a3b4')\n",
    "plt.title('Monthly customer sales')\n",
    "plt.xlabel('Date')\n",
    "plt.ylabel('Sales')\n",
    "plt.show()"
   ]
  },
  {
   "cell_type": "code",
   "execution_count": 18,
   "id": "ff6c7b7d-818b-4cb2-8846-c35b88f8603d",
   "metadata": {},
   "outputs": [],
   "source": [
    "#we need to make this data stationary to improve the training phase of the learning models\n",
    "monthly_sales['sales_diff']=monthly_sales['SALES'].diff()#get the difference of every current and previous month to try to predict the next month"
   ]
  },
  {
   "cell_type": "code",
   "execution_count": 19,
   "id": "90c7ec49-9aac-4b74-a327-a7f30a19c336",
   "metadata": {},
   "outputs": [
    {
     "data": {
      "text/plain": [
       "ORDER DATE    0\n",
       "SALES         0\n",
       "sales_diff    1\n",
       "dtype: int64"
      ]
     },
     "execution_count": 19,
     "metadata": {},
     "output_type": "execute_result"
    }
   ],
   "source": [
    "monthly_sales.isna().sum() #the first month(january 2003 as there is no date before it (data for december 2002))"
   ]
  },
  {
   "cell_type": "code",
   "execution_count": 20,
   "id": "15b3ad27-d444-49ee-9f94-c14ac5a2eed3",
   "metadata": {},
   "outputs": [
    {
     "data": {
      "text/html": [
       "<div>\n",
       "<style scoped>\n",
       "    .dataframe tbody tr th:only-of-type {\n",
       "        vertical-align: middle;\n",
       "    }\n",
       "\n",
       "    .dataframe tbody tr th {\n",
       "        vertical-align: top;\n",
       "    }\n",
       "\n",
       "    .dataframe thead th {\n",
       "        text-align: right;\n",
       "    }\n",
       "</style>\n",
       "<table border=\"1\" class=\"dataframe\">\n",
       "  <thead>\n",
       "    <tr style=\"text-align: right;\">\n",
       "      <th></th>\n",
       "      <th>ORDER DATE</th>\n",
       "      <th>SALES</th>\n",
       "      <th>sales_diff</th>\n",
       "    </tr>\n",
       "  </thead>\n",
       "  <tbody>\n",
       "    <tr>\n",
       "      <th>0</th>\n",
       "      <td>2003-01-01</td>\n",
       "      <td>129753.6</td>\n",
       "      <td>NaN</td>\n",
       "    </tr>\n",
       "  </tbody>\n",
       "</table>\n",
       "</div>"
      ],
      "text/plain": [
       "  ORDER DATE     SALES  sales_diff\n",
       "0 2003-01-01  129753.6         NaN"
      ]
     },
     "execution_count": 20,
     "metadata": {},
     "output_type": "execute_result"
    }
   ],
   "source": [
    "monthly_sales.loc[monthly_sales['sales_diff'].isna()]"
   ]
  },
  {
   "cell_type": "code",
   "execution_count": 21,
   "id": "a60f0250-ff60-451d-9d98-061c7d167531",
   "metadata": {},
   "outputs": [],
   "source": [
    "monthly_sales=monthly_sales.dropna()"
   ]
  },
  {
   "cell_type": "code",
   "execution_count": 22,
   "id": "32493fd3-b7f9-45f1-8d27-54331bc15046",
   "metadata": {},
   "outputs": [
    {
     "data": {
      "text/html": [
       "<div>\n",
       "<style scoped>\n",
       "    .dataframe tbody tr th:only-of-type {\n",
       "        vertical-align: middle;\n",
       "    }\n",
       "\n",
       "    .dataframe tbody tr th {\n",
       "        vertical-align: top;\n",
       "    }\n",
       "\n",
       "    .dataframe thead th {\n",
       "        text-align: right;\n",
       "    }\n",
       "</style>\n",
       "<table border=\"1\" class=\"dataframe\">\n",
       "  <thead>\n",
       "    <tr style=\"text-align: right;\">\n",
       "      <th></th>\n",
       "      <th>ORDER DATE</th>\n",
       "      <th>SALES</th>\n",
       "      <th>sales_diff</th>\n",
       "    </tr>\n",
       "  </thead>\n",
       "  <tbody>\n",
       "    <tr>\n",
       "      <th>1</th>\n",
       "      <td>2003-02-01</td>\n",
       "      <td>140836.19</td>\n",
       "      <td>11082.59</td>\n",
       "    </tr>\n",
       "    <tr>\n",
       "      <th>2</th>\n",
       "      <td>2003-03-01</td>\n",
       "      <td>174504.90</td>\n",
       "      <td>33668.71</td>\n",
       "    </tr>\n",
       "    <tr>\n",
       "      <th>3</th>\n",
       "      <td>2003-04-01</td>\n",
       "      <td>201609.55</td>\n",
       "      <td>27104.65</td>\n",
       "    </tr>\n",
       "    <tr>\n",
       "      <th>4</th>\n",
       "      <td>2003-05-01</td>\n",
       "      <td>192673.11</td>\n",
       "      <td>-8936.44</td>\n",
       "    </tr>\n",
       "    <tr>\n",
       "      <th>5</th>\n",
       "      <td>2003-06-01</td>\n",
       "      <td>168082.56</td>\n",
       "      <td>-24590.55</td>\n",
       "    </tr>\n",
       "  </tbody>\n",
       "</table>\n",
       "</div>"
      ],
      "text/plain": [
       "  ORDER DATE      SALES  sales_diff\n",
       "1 2003-02-01  140836.19    11082.59\n",
       "2 2003-03-01  174504.90    33668.71\n",
       "3 2003-04-01  201609.55    27104.65\n",
       "4 2003-05-01  192673.11    -8936.44\n",
       "5 2003-06-01  168082.56   -24590.55"
      ]
     },
     "execution_count": 22,
     "metadata": {},
     "output_type": "execute_result"
    }
   ],
   "source": [
    "monthly_sales.head()#the data will start from febuary-2003 so we see the increasing or decreasing of data between the current and previous month"
   ]
  },
  {
   "cell_type": "code",
   "execution_count": 23,
   "id": "5d28cfc8-e9e7-461c-adeb-7da8ed5254a8",
   "metadata": {},
   "outputs": [
    {
     "data": {
      "text/plain": [
       "(28, 3)"
      ]
     },
     "execution_count": 23,
     "metadata": {},
     "output_type": "execute_result"
    }
   ],
   "source": [
    "monthly_sales.shape"
   ]
  },
  {
   "cell_type": "code",
   "execution_count": 24,
   "id": "7f015d20-7dfc-4574-953a-60a9ff6f7d83",
   "metadata": {},
   "outputs": [
    {
     "data": {
      "text/html": [
       "<div>\n",
       "<style scoped>\n",
       "    .dataframe tbody tr th:only-of-type {\n",
       "        vertical-align: middle;\n",
       "    }\n",
       "\n",
       "    .dataframe tbody tr th {\n",
       "        vertical-align: top;\n",
       "    }\n",
       "\n",
       "    .dataframe thead th {\n",
       "        text-align: right;\n",
       "    }\n",
       "</style>\n",
       "<table border=\"1\" class=\"dataframe\">\n",
       "  <thead>\n",
       "    <tr style=\"text-align: right;\">\n",
       "      <th></th>\n",
       "      <th>sales_diff</th>\n",
       "    </tr>\n",
       "  </thead>\n",
       "  <tbody>\n",
       "    <tr>\n",
       "      <th>1</th>\n",
       "      <td>11082.59</td>\n",
       "    </tr>\n",
       "    <tr>\n",
       "      <th>2</th>\n",
       "      <td>33668.71</td>\n",
       "    </tr>\n",
       "    <tr>\n",
       "      <th>3</th>\n",
       "      <td>27104.65</td>\n",
       "    </tr>\n",
       "    <tr>\n",
       "      <th>4</th>\n",
       "      <td>-8936.44</td>\n",
       "    </tr>\n",
       "    <tr>\n",
       "      <th>5</th>\n",
       "      <td>-24590.55</td>\n",
       "    </tr>\n",
       "    <tr>\n",
       "      <th>6</th>\n",
       "      <td>19649.32</td>\n",
       "    </tr>\n",
       "    <tr>\n",
       "      <th>7</th>\n",
       "      <td>10077.42</td>\n",
       "    </tr>\n",
       "    <tr>\n",
       "      <th>8</th>\n",
       "      <td>66164.06</td>\n",
       "    </tr>\n",
       "    <tr>\n",
       "      <th>9</th>\n",
       "      <td>304317.61</td>\n",
       "    </tr>\n",
       "    <tr>\n",
       "      <th>10</th>\n",
       "      <td>461546.69</td>\n",
       "    </tr>\n",
       "  </tbody>\n",
       "</table>\n",
       "</div>"
      ],
      "text/plain": [
       "    sales_diff\n",
       "1     11082.59\n",
       "2     33668.71\n",
       "3     27104.65\n",
       "4     -8936.44\n",
       "5    -24590.55\n",
       "6     19649.32\n",
       "7     10077.42\n",
       "8     66164.06\n",
       "9    304317.61\n",
       "10   461546.69"
      ]
     },
     "execution_count": 24,
     "metadata": {},
     "output_type": "execute_result"
    }
   ],
   "source": [
    "#now we will train our model to predict the sale in the next month by looking at the sale of items in specific numbers of previous months\n",
    "#preparing the dataset to feed it to the ml model\n",
    "#previous 12 month sale data will be used to predict the sales in the sucesses 12 month\n",
    "#we will drop the order date and sales as we will deal with the stationary data and we are gonna to use it to train the ml model\n",
    "supervised_data=pd.DataFrame(monthly_sales['sales_diff'])\n",
    "supervised_data.head(10)"
   ]
  },
  {
   "cell_type": "code",
   "execution_count": 25,
   "id": "d2f0b309-d7f4-4fe9-a9a5-c2d7b4934ed0",
   "metadata": {},
   "outputs": [],
   "source": [
    "#we will prepare the supervised data \n",
    "#(the previous 12 month sales will be act as input features and the next 12 month sale will be used as the output for supervised learning)\n",
    "for i in range(1,13):\n",
    "    col_name='month_'+str(i)\n",
    "    supervised_data[col_name]=supervised_data['sales_diff'].shift(i)\n",
    "supervised_data=supervised_data.dropna().reset_index(drop=True)\n"
   ]
  },
  {
   "cell_type": "code",
   "execution_count": 26,
   "id": "3494b125-d666-402b-8f89-e4294629a36d",
   "metadata": {},
   "outputs": [
    {
     "data": {
      "text/html": [
       "<div>\n",
       "<style scoped>\n",
       "    .dataframe tbody tr th:only-of-type {\n",
       "        vertical-align: middle;\n",
       "    }\n",
       "\n",
       "    .dataframe tbody tr th {\n",
       "        vertical-align: top;\n",
       "    }\n",
       "\n",
       "    .dataframe thead th {\n",
       "        text-align: right;\n",
       "    }\n",
       "</style>\n",
       "<table border=\"1\" class=\"dataframe\">\n",
       "  <thead>\n",
       "    <tr style=\"text-align: right;\">\n",
       "      <th></th>\n",
       "      <th>sales_diff</th>\n",
       "      <th>month_1</th>\n",
       "      <th>month_2</th>\n",
       "      <th>month_3</th>\n",
       "      <th>month_4</th>\n",
       "      <th>month_5</th>\n",
       "      <th>month_6</th>\n",
       "      <th>month_7</th>\n",
       "      <th>month_8</th>\n",
       "      <th>month_9</th>\n",
       "      <th>month_10</th>\n",
       "      <th>month_11</th>\n",
       "      <th>month_12</th>\n",
       "    </tr>\n",
       "  </thead>\n",
       "  <tbody>\n",
       "    <tr>\n",
       "      <th>0</th>\n",
       "      <td>-5157.89</td>\n",
       "      <td>54700.96</td>\n",
       "      <td>-767961.20</td>\n",
       "      <td>461546.69</td>\n",
       "      <td>304317.61</td>\n",
       "      <td>66164.06</td>\n",
       "      <td>10077.42</td>\n",
       "      <td>19649.32</td>\n",
       "      <td>-24590.55</td>\n",
       "      <td>-8936.44</td>\n",
       "      <td>27104.65</td>\n",
       "      <td>33668.71</td>\n",
       "      <td>11082.59</td>\n",
       "    </tr>\n",
       "    <tr>\n",
       "      <th>1</th>\n",
       "      <td>-105685.80</td>\n",
       "      <td>-5157.89</td>\n",
       "      <td>54700.96</td>\n",
       "      <td>-767961.20</td>\n",
       "      <td>461546.69</td>\n",
       "      <td>304317.61</td>\n",
       "      <td>66164.06</td>\n",
       "      <td>10077.42</td>\n",
       "      <td>19649.32</td>\n",
       "      <td>-24590.55</td>\n",
       "      <td>-8936.44</td>\n",
       "      <td>27104.65</td>\n",
       "      <td>33668.71</td>\n",
       "    </tr>\n",
       "    <tr>\n",
       "      <th>2</th>\n",
       "      <td>414.39</td>\n",
       "      <td>-105685.80</td>\n",
       "      <td>-5157.89</td>\n",
       "      <td>54700.96</td>\n",
       "      <td>-767961.20</td>\n",
       "      <td>461546.69</td>\n",
       "      <td>304317.61</td>\n",
       "      <td>66164.06</td>\n",
       "      <td>10077.42</td>\n",
       "      <td>19649.32</td>\n",
       "      <td>-24590.55</td>\n",
       "      <td>-8936.44</td>\n",
       "      <td>27104.65</td>\n",
       "    </tr>\n",
       "    <tr>\n",
       "      <th>3</th>\n",
       "      <td>67290.27</td>\n",
       "      <td>414.39</td>\n",
       "      <td>-105685.80</td>\n",
       "      <td>-5157.89</td>\n",
       "      <td>54700.96</td>\n",
       "      <td>-767961.20</td>\n",
       "      <td>461546.69</td>\n",
       "      <td>304317.61</td>\n",
       "      <td>66164.06</td>\n",
       "      <td>10077.42</td>\n",
       "      <td>19649.32</td>\n",
       "      <td>-24590.55</td>\n",
       "      <td>-8936.44</td>\n",
       "    </tr>\n",
       "    <tr>\n",
       "      <th>4</th>\n",
       "      <td>13235.83</td>\n",
       "      <td>67290.27</td>\n",
       "      <td>414.39</td>\n",
       "      <td>-105685.80</td>\n",
       "      <td>-5157.89</td>\n",
       "      <td>54700.96</td>\n",
       "      <td>-767961.20</td>\n",
       "      <td>461546.69</td>\n",
       "      <td>304317.61</td>\n",
       "      <td>66164.06</td>\n",
       "      <td>10077.42</td>\n",
       "      <td>19649.32</td>\n",
       "      <td>-24590.55</td>\n",
       "    </tr>\n",
       "    <tr>\n",
       "      <th>5</th>\n",
       "      <td>40469.87</td>\n",
       "      <td>13235.83</td>\n",
       "      <td>67290.27</td>\n",
       "      <td>414.39</td>\n",
       "      <td>-105685.80</td>\n",
       "      <td>-5157.89</td>\n",
       "      <td>54700.96</td>\n",
       "      <td>-767961.20</td>\n",
       "      <td>461546.69</td>\n",
       "      <td>304317.61</td>\n",
       "      <td>66164.06</td>\n",
       "      <td>10077.42</td>\n",
       "      <td>19649.32</td>\n",
       "    </tr>\n",
       "    <tr>\n",
       "      <th>6</th>\n",
       "      <td>134357.18</td>\n",
       "      <td>40469.87</td>\n",
       "      <td>13235.83</td>\n",
       "      <td>67290.27</td>\n",
       "      <td>414.39</td>\n",
       "      <td>-105685.80</td>\n",
       "      <td>-5157.89</td>\n",
       "      <td>54700.96</td>\n",
       "      <td>-767961.20</td>\n",
       "      <td>461546.69</td>\n",
       "      <td>304317.61</td>\n",
       "      <td>66164.06</td>\n",
       "      <td>10077.42</td>\n",
       "    </tr>\n",
       "    <tr>\n",
       "      <th>7</th>\n",
       "      <td>-140750.36</td>\n",
       "      <td>134357.18</td>\n",
       "      <td>40469.87</td>\n",
       "      <td>13235.83</td>\n",
       "      <td>67290.27</td>\n",
       "      <td>414.39</td>\n",
       "      <td>-105685.80</td>\n",
       "      <td>-5157.89</td>\n",
       "      <td>54700.96</td>\n",
       "      <td>-767961.20</td>\n",
       "      <td>461546.69</td>\n",
       "      <td>304317.61</td>\n",
       "      <td>66164.06</td>\n",
       "    </tr>\n",
       "    <tr>\n",
       "      <th>8</th>\n",
       "      <td>232173.34</td>\n",
       "      <td>-140750.36</td>\n",
       "      <td>134357.18</td>\n",
       "      <td>40469.87</td>\n",
       "      <td>13235.83</td>\n",
       "      <td>67290.27</td>\n",
       "      <td>414.39</td>\n",
       "      <td>-105685.80</td>\n",
       "      <td>-5157.89</td>\n",
       "      <td>54700.96</td>\n",
       "      <td>-767961.20</td>\n",
       "      <td>461546.69</td>\n",
       "      <td>304317.61</td>\n",
       "    </tr>\n",
       "    <tr>\n",
       "      <th>9</th>\n",
       "      <td>536123.76</td>\n",
       "      <td>232173.34</td>\n",
       "      <td>-140750.36</td>\n",
       "      <td>134357.18</td>\n",
       "      <td>40469.87</td>\n",
       "      <td>13235.83</td>\n",
       "      <td>67290.27</td>\n",
       "      <td>414.39</td>\n",
       "      <td>-105685.80</td>\n",
       "      <td>-5157.89</td>\n",
       "      <td>54700.96</td>\n",
       "      <td>-767961.20</td>\n",
       "      <td>461546.69</td>\n",
       "    </tr>\n",
       "    <tr>\n",
       "      <th>10</th>\n",
       "      <td>-716245.35</td>\n",
       "      <td>536123.76</td>\n",
       "      <td>232173.34</td>\n",
       "      <td>-140750.36</td>\n",
       "      <td>134357.18</td>\n",
       "      <td>40469.87</td>\n",
       "      <td>13235.83</td>\n",
       "      <td>67290.27</td>\n",
       "      <td>414.39</td>\n",
       "      <td>-105685.80</td>\n",
       "      <td>-5157.89</td>\n",
       "      <td>54700.96</td>\n",
       "      <td>-767961.20</td>\n",
       "    </tr>\n",
       "    <tr>\n",
       "      <th>11</th>\n",
       "      <td>-33259.24</td>\n",
       "      <td>-716245.35</td>\n",
       "      <td>536123.76</td>\n",
       "      <td>232173.34</td>\n",
       "      <td>-140750.36</td>\n",
       "      <td>134357.18</td>\n",
       "      <td>40469.87</td>\n",
       "      <td>13235.83</td>\n",
       "      <td>67290.27</td>\n",
       "      <td>414.39</td>\n",
       "      <td>-105685.80</td>\n",
       "      <td>-5157.89</td>\n",
       "      <td>54700.96</td>\n",
       "    </tr>\n",
       "  </tbody>\n",
       "</table>\n",
       "</div>"
      ],
      "text/plain": [
       "    sales_diff    month_1    month_2    month_3    month_4    month_5  \\\n",
       "0     -5157.89   54700.96 -767961.20  461546.69  304317.61   66164.06   \n",
       "1   -105685.80   -5157.89   54700.96 -767961.20  461546.69  304317.61   \n",
       "2       414.39 -105685.80   -5157.89   54700.96 -767961.20  461546.69   \n",
       "3     67290.27     414.39 -105685.80   -5157.89   54700.96 -767961.20   \n",
       "4     13235.83   67290.27     414.39 -105685.80   -5157.89   54700.96   \n",
       "5     40469.87   13235.83   67290.27     414.39 -105685.80   -5157.89   \n",
       "6    134357.18   40469.87   13235.83   67290.27     414.39 -105685.80   \n",
       "7   -140750.36  134357.18   40469.87   13235.83   67290.27     414.39   \n",
       "8    232173.34 -140750.36  134357.18   40469.87   13235.83   67290.27   \n",
       "9    536123.76  232173.34 -140750.36  134357.18   40469.87   13235.83   \n",
       "10  -716245.35  536123.76  232173.34 -140750.36  134357.18   40469.87   \n",
       "11   -33259.24 -716245.35  536123.76  232173.34 -140750.36  134357.18   \n",
       "\n",
       "      month_6    month_7    month_8    month_9   month_10   month_11  \\\n",
       "0    10077.42   19649.32  -24590.55   -8936.44   27104.65   33668.71   \n",
       "1    66164.06   10077.42   19649.32  -24590.55   -8936.44   27104.65   \n",
       "2   304317.61   66164.06   10077.42   19649.32  -24590.55   -8936.44   \n",
       "3   461546.69  304317.61   66164.06   10077.42   19649.32  -24590.55   \n",
       "4  -767961.20  461546.69  304317.61   66164.06   10077.42   19649.32   \n",
       "5    54700.96 -767961.20  461546.69  304317.61   66164.06   10077.42   \n",
       "6    -5157.89   54700.96 -767961.20  461546.69  304317.61   66164.06   \n",
       "7  -105685.80   -5157.89   54700.96 -767961.20  461546.69  304317.61   \n",
       "8      414.39 -105685.80   -5157.89   54700.96 -767961.20  461546.69   \n",
       "9    67290.27     414.39 -105685.80   -5157.89   54700.96 -767961.20   \n",
       "10   13235.83   67290.27     414.39 -105685.80   -5157.89   54700.96   \n",
       "11   40469.87   13235.83   67290.27     414.39 -105685.80   -5157.89   \n",
       "\n",
       "     month_12  \n",
       "0    11082.59  \n",
       "1    33668.71  \n",
       "2    27104.65  \n",
       "3    -8936.44  \n",
       "4   -24590.55  \n",
       "5    19649.32  \n",
       "6    10077.42  \n",
       "7    66164.06  \n",
       "8   304317.61  \n",
       "9   461546.69  \n",
       "10 -767961.20  \n",
       "11   54700.96  "
      ]
     },
     "execution_count": 26,
     "metadata": {},
     "output_type": "execute_result"
    }
   ],
   "source": [
    "supervised_data.head(12)#sales from january to december(sales difference for each month)"
   ]
  },
  {
   "cell_type": "code",
   "execution_count": null,
   "id": "6a22763a-d7dd-4a6d-9db3-705c899cfe3b",
   "metadata": {},
   "outputs": [],
   "source": []
  },
  {
   "cell_type": "code",
   "execution_count": 27,
   "id": "b1557632-ea0e-4094-bc12-63f3bf2221bf",
   "metadata": {},
   "outputs": [
    {
     "data": {
      "text/plain": [
       "(16, 13)"
      ]
     },
     "execution_count": 27,
     "metadata": {},
     "output_type": "execute_result"
    }
   ],
   "source": [
    "supervised_data.shape"
   ]
  },
  {
   "cell_type": "markdown",
   "id": "83f56a7e-3598-405d-b22a-fb17e6e01635",
   "metadata": {},
   "source": [
    "***Splitting the data into train and test***"
   ]
  },
  {
   "cell_type": "code",
   "execution_count": 29,
   "id": "5a8e46dd-fe0f-4c68-92d6-b655bfe55cbf",
   "metadata": {},
   "outputs": [],
   "source": [
    "train_data=supervised_data[:-4]  #for the previous 12 month\n",
    "test_data=supervised_data[-4:]   #for the coming 12 month"
   ]
  },
  {
   "cell_type": "code",
   "execution_count": 30,
   "id": "828baff2-72f4-4200-847a-5b9108883f8d",
   "metadata": {},
   "outputs": [
    {
     "data": {
      "text/plain": [
       "(12, 13)"
      ]
     },
     "execution_count": 30,
     "metadata": {},
     "output_type": "execute_result"
    }
   ],
   "source": [
    "train_data.shape"
   ]
  },
  {
   "cell_type": "code",
   "execution_count": 31,
   "id": "cb6cfc08-d118-48bc-9e9e-eb20ce2ce752",
   "metadata": {},
   "outputs": [
    {
     "data": {
      "text/html": [
       "<div>\n",
       "<style scoped>\n",
       "    .dataframe tbody tr th:only-of-type {\n",
       "        vertical-align: middle;\n",
       "    }\n",
       "\n",
       "    .dataframe tbody tr th {\n",
       "        vertical-align: top;\n",
       "    }\n",
       "\n",
       "    .dataframe thead th {\n",
       "        text-align: right;\n",
       "    }\n",
       "</style>\n",
       "<table border=\"1\" class=\"dataframe\">\n",
       "  <thead>\n",
       "    <tr style=\"text-align: right;\">\n",
       "      <th></th>\n",
       "      <th>sales_diff</th>\n",
       "      <th>month_1</th>\n",
       "      <th>month_2</th>\n",
       "      <th>month_3</th>\n",
       "      <th>month_4</th>\n",
       "      <th>month_5</th>\n",
       "      <th>month_6</th>\n",
       "      <th>month_7</th>\n",
       "      <th>month_8</th>\n",
       "      <th>month_9</th>\n",
       "      <th>month_10</th>\n",
       "      <th>month_11</th>\n",
       "      <th>month_12</th>\n",
       "    </tr>\n",
       "  </thead>\n",
       "  <tbody>\n",
       "    <tr>\n",
       "      <th>0</th>\n",
       "      <td>-5157.89</td>\n",
       "      <td>54700.96</td>\n",
       "      <td>-767961.20</td>\n",
       "      <td>461546.69</td>\n",
       "      <td>304317.61</td>\n",
       "      <td>66164.06</td>\n",
       "      <td>10077.42</td>\n",
       "      <td>19649.32</td>\n",
       "      <td>-24590.55</td>\n",
       "      <td>-8936.44</td>\n",
       "      <td>27104.65</td>\n",
       "      <td>33668.71</td>\n",
       "      <td>11082.59</td>\n",
       "    </tr>\n",
       "    <tr>\n",
       "      <th>1</th>\n",
       "      <td>-105685.80</td>\n",
       "      <td>-5157.89</td>\n",
       "      <td>54700.96</td>\n",
       "      <td>-767961.20</td>\n",
       "      <td>461546.69</td>\n",
       "      <td>304317.61</td>\n",
       "      <td>66164.06</td>\n",
       "      <td>10077.42</td>\n",
       "      <td>19649.32</td>\n",
       "      <td>-24590.55</td>\n",
       "      <td>-8936.44</td>\n",
       "      <td>27104.65</td>\n",
       "      <td>33668.71</td>\n",
       "    </tr>\n",
       "    <tr>\n",
       "      <th>2</th>\n",
       "      <td>414.39</td>\n",
       "      <td>-105685.80</td>\n",
       "      <td>-5157.89</td>\n",
       "      <td>54700.96</td>\n",
       "      <td>-767961.20</td>\n",
       "      <td>461546.69</td>\n",
       "      <td>304317.61</td>\n",
       "      <td>66164.06</td>\n",
       "      <td>10077.42</td>\n",
       "      <td>19649.32</td>\n",
       "      <td>-24590.55</td>\n",
       "      <td>-8936.44</td>\n",
       "      <td>27104.65</td>\n",
       "    </tr>\n",
       "    <tr>\n",
       "      <th>3</th>\n",
       "      <td>67290.27</td>\n",
       "      <td>414.39</td>\n",
       "      <td>-105685.80</td>\n",
       "      <td>-5157.89</td>\n",
       "      <td>54700.96</td>\n",
       "      <td>-767961.20</td>\n",
       "      <td>461546.69</td>\n",
       "      <td>304317.61</td>\n",
       "      <td>66164.06</td>\n",
       "      <td>10077.42</td>\n",
       "      <td>19649.32</td>\n",
       "      <td>-24590.55</td>\n",
       "      <td>-8936.44</td>\n",
       "    </tr>\n",
       "    <tr>\n",
       "      <th>4</th>\n",
       "      <td>13235.83</td>\n",
       "      <td>67290.27</td>\n",
       "      <td>414.39</td>\n",
       "      <td>-105685.80</td>\n",
       "      <td>-5157.89</td>\n",
       "      <td>54700.96</td>\n",
       "      <td>-767961.20</td>\n",
       "      <td>461546.69</td>\n",
       "      <td>304317.61</td>\n",
       "      <td>66164.06</td>\n",
       "      <td>10077.42</td>\n",
       "      <td>19649.32</td>\n",
       "      <td>-24590.55</td>\n",
       "    </tr>\n",
       "    <tr>\n",
       "      <th>5</th>\n",
       "      <td>40469.87</td>\n",
       "      <td>13235.83</td>\n",
       "      <td>67290.27</td>\n",
       "      <td>414.39</td>\n",
       "      <td>-105685.80</td>\n",
       "      <td>-5157.89</td>\n",
       "      <td>54700.96</td>\n",
       "      <td>-767961.20</td>\n",
       "      <td>461546.69</td>\n",
       "      <td>304317.61</td>\n",
       "      <td>66164.06</td>\n",
       "      <td>10077.42</td>\n",
       "      <td>19649.32</td>\n",
       "    </tr>\n",
       "    <tr>\n",
       "      <th>6</th>\n",
       "      <td>134357.18</td>\n",
       "      <td>40469.87</td>\n",
       "      <td>13235.83</td>\n",
       "      <td>67290.27</td>\n",
       "      <td>414.39</td>\n",
       "      <td>-105685.80</td>\n",
       "      <td>-5157.89</td>\n",
       "      <td>54700.96</td>\n",
       "      <td>-767961.20</td>\n",
       "      <td>461546.69</td>\n",
       "      <td>304317.61</td>\n",
       "      <td>66164.06</td>\n",
       "      <td>10077.42</td>\n",
       "    </tr>\n",
       "    <tr>\n",
       "      <th>7</th>\n",
       "      <td>-140750.36</td>\n",
       "      <td>134357.18</td>\n",
       "      <td>40469.87</td>\n",
       "      <td>13235.83</td>\n",
       "      <td>67290.27</td>\n",
       "      <td>414.39</td>\n",
       "      <td>-105685.80</td>\n",
       "      <td>-5157.89</td>\n",
       "      <td>54700.96</td>\n",
       "      <td>-767961.20</td>\n",
       "      <td>461546.69</td>\n",
       "      <td>304317.61</td>\n",
       "      <td>66164.06</td>\n",
       "    </tr>\n",
       "    <tr>\n",
       "      <th>8</th>\n",
       "      <td>232173.34</td>\n",
       "      <td>-140750.36</td>\n",
       "      <td>134357.18</td>\n",
       "      <td>40469.87</td>\n",
       "      <td>13235.83</td>\n",
       "      <td>67290.27</td>\n",
       "      <td>414.39</td>\n",
       "      <td>-105685.80</td>\n",
       "      <td>-5157.89</td>\n",
       "      <td>54700.96</td>\n",
       "      <td>-767961.20</td>\n",
       "      <td>461546.69</td>\n",
       "      <td>304317.61</td>\n",
       "    </tr>\n",
       "    <tr>\n",
       "      <th>9</th>\n",
       "      <td>536123.76</td>\n",
       "      <td>232173.34</td>\n",
       "      <td>-140750.36</td>\n",
       "      <td>134357.18</td>\n",
       "      <td>40469.87</td>\n",
       "      <td>13235.83</td>\n",
       "      <td>67290.27</td>\n",
       "      <td>414.39</td>\n",
       "      <td>-105685.80</td>\n",
       "      <td>-5157.89</td>\n",
       "      <td>54700.96</td>\n",
       "      <td>-767961.20</td>\n",
       "      <td>461546.69</td>\n",
       "    </tr>\n",
       "    <tr>\n",
       "      <th>10</th>\n",
       "      <td>-716245.35</td>\n",
       "      <td>536123.76</td>\n",
       "      <td>232173.34</td>\n",
       "      <td>-140750.36</td>\n",
       "      <td>134357.18</td>\n",
       "      <td>40469.87</td>\n",
       "      <td>13235.83</td>\n",
       "      <td>67290.27</td>\n",
       "      <td>414.39</td>\n",
       "      <td>-105685.80</td>\n",
       "      <td>-5157.89</td>\n",
       "      <td>54700.96</td>\n",
       "      <td>-767961.20</td>\n",
       "    </tr>\n",
       "    <tr>\n",
       "      <th>11</th>\n",
       "      <td>-33259.24</td>\n",
       "      <td>-716245.35</td>\n",
       "      <td>536123.76</td>\n",
       "      <td>232173.34</td>\n",
       "      <td>-140750.36</td>\n",
       "      <td>134357.18</td>\n",
       "      <td>40469.87</td>\n",
       "      <td>13235.83</td>\n",
       "      <td>67290.27</td>\n",
       "      <td>414.39</td>\n",
       "      <td>-105685.80</td>\n",
       "      <td>-5157.89</td>\n",
       "      <td>54700.96</td>\n",
       "    </tr>\n",
       "  </tbody>\n",
       "</table>\n",
       "</div>"
      ],
      "text/plain": [
       "    sales_diff    month_1    month_2    month_3    month_4    month_5  \\\n",
       "0     -5157.89   54700.96 -767961.20  461546.69  304317.61   66164.06   \n",
       "1   -105685.80   -5157.89   54700.96 -767961.20  461546.69  304317.61   \n",
       "2       414.39 -105685.80   -5157.89   54700.96 -767961.20  461546.69   \n",
       "3     67290.27     414.39 -105685.80   -5157.89   54700.96 -767961.20   \n",
       "4     13235.83   67290.27     414.39 -105685.80   -5157.89   54700.96   \n",
       "5     40469.87   13235.83   67290.27     414.39 -105685.80   -5157.89   \n",
       "6    134357.18   40469.87   13235.83   67290.27     414.39 -105685.80   \n",
       "7   -140750.36  134357.18   40469.87   13235.83   67290.27     414.39   \n",
       "8    232173.34 -140750.36  134357.18   40469.87   13235.83   67290.27   \n",
       "9    536123.76  232173.34 -140750.36  134357.18   40469.87   13235.83   \n",
       "10  -716245.35  536123.76  232173.34 -140750.36  134357.18   40469.87   \n",
       "11   -33259.24 -716245.35  536123.76  232173.34 -140750.36  134357.18   \n",
       "\n",
       "      month_6    month_7    month_8    month_9   month_10   month_11  \\\n",
       "0    10077.42   19649.32  -24590.55   -8936.44   27104.65   33668.71   \n",
       "1    66164.06   10077.42   19649.32  -24590.55   -8936.44   27104.65   \n",
       "2   304317.61   66164.06   10077.42   19649.32  -24590.55   -8936.44   \n",
       "3   461546.69  304317.61   66164.06   10077.42   19649.32  -24590.55   \n",
       "4  -767961.20  461546.69  304317.61   66164.06   10077.42   19649.32   \n",
       "5    54700.96 -767961.20  461546.69  304317.61   66164.06   10077.42   \n",
       "6    -5157.89   54700.96 -767961.20  461546.69  304317.61   66164.06   \n",
       "7  -105685.80   -5157.89   54700.96 -767961.20  461546.69  304317.61   \n",
       "8      414.39 -105685.80   -5157.89   54700.96 -767961.20  461546.69   \n",
       "9    67290.27     414.39 -105685.80   -5157.89   54700.96 -767961.20   \n",
       "10   13235.83   67290.27     414.39 -105685.80   -5157.89   54700.96   \n",
       "11   40469.87   13235.83   67290.27     414.39 -105685.80   -5157.89   \n",
       "\n",
       "     month_12  \n",
       "0    11082.59  \n",
       "1    33668.71  \n",
       "2    27104.65  \n",
       "3    -8936.44  \n",
       "4   -24590.55  \n",
       "5    19649.32  \n",
       "6    10077.42  \n",
       "7    66164.06  \n",
       "8   304317.61  \n",
       "9   461546.69  \n",
       "10 -767961.20  \n",
       "11   54700.96  "
      ]
     },
     "execution_count": 31,
     "metadata": {},
     "output_type": "execute_result"
    }
   ],
   "source": [
    "train_data"
   ]
  },
  {
   "cell_type": "code",
   "execution_count": 32,
   "id": "078dfd74-e00c-4dc8-853a-025f514fc803",
   "metadata": {},
   "outputs": [
    {
     "data": {
      "text/plain": [
       "(4, 13)"
      ]
     },
     "execution_count": 32,
     "metadata": {},
     "output_type": "execute_result"
    }
   ],
   "source": [
    "test_data.shape"
   ]
  },
  {
   "cell_type": "code",
   "execution_count": 33,
   "id": "550cc934-b156-4b07-9807-fbb20fe3c348",
   "metadata": {},
   "outputs": [
    {
     "data": {
      "text/html": [
       "<div>\n",
       "<style scoped>\n",
       "    .dataframe tbody tr th:only-of-type {\n",
       "        vertical-align: middle;\n",
       "    }\n",
       "\n",
       "    .dataframe tbody tr th {\n",
       "        vertical-align: top;\n",
       "    }\n",
       "\n",
       "    .dataframe thead th {\n",
       "        text-align: right;\n",
       "    }\n",
       "</style>\n",
       "<table border=\"1\" class=\"dataframe\">\n",
       "  <thead>\n",
       "    <tr style=\"text-align: right;\">\n",
       "      <th></th>\n",
       "      <th>sales_diff</th>\n",
       "      <th>month_1</th>\n",
       "      <th>month_2</th>\n",
       "      <th>month_3</th>\n",
       "      <th>month_4</th>\n",
       "      <th>month_5</th>\n",
       "      <th>month_6</th>\n",
       "      <th>month_7</th>\n",
       "      <th>month_8</th>\n",
       "      <th>month_9</th>\n",
       "      <th>month_10</th>\n",
       "      <th>month_11</th>\n",
       "      <th>month_12</th>\n",
       "    </tr>\n",
       "  </thead>\n",
       "  <tbody>\n",
       "    <tr>\n",
       "      <th>12</th>\n",
       "      <td>18642.76</td>\n",
       "      <td>-33259.24</td>\n",
       "      <td>-716245.35</td>\n",
       "      <td>536123.76</td>\n",
       "      <td>232173.34</td>\n",
       "      <td>-140750.36</td>\n",
       "      <td>134357.18</td>\n",
       "      <td>40469.87</td>\n",
       "      <td>13235.83</td>\n",
       "      <td>67290.27</td>\n",
       "      <td>414.39</td>\n",
       "      <td>-105685.80</td>\n",
       "      <td>-5157.89</td>\n",
       "    </tr>\n",
       "    <tr>\n",
       "      <th>13</th>\n",
       "      <td>16076.58</td>\n",
       "      <td>18642.76</td>\n",
       "      <td>-33259.24</td>\n",
       "      <td>-716245.35</td>\n",
       "      <td>536123.76</td>\n",
       "      <td>232173.34</td>\n",
       "      <td>-140750.36</td>\n",
       "      <td>134357.18</td>\n",
       "      <td>40469.87</td>\n",
       "      <td>13235.83</td>\n",
       "      <td>67290.27</td>\n",
       "      <td>414.39</td>\n",
       "      <td>-105685.80</td>\n",
       "    </tr>\n",
       "    <tr>\n",
       "      <th>14</th>\n",
       "      <td>-112629.47</td>\n",
       "      <td>16076.58</td>\n",
       "      <td>18642.76</td>\n",
       "      <td>-33259.24</td>\n",
       "      <td>-716245.35</td>\n",
       "      <td>536123.76</td>\n",
       "      <td>232173.34</td>\n",
       "      <td>-140750.36</td>\n",
       "      <td>134357.18</td>\n",
       "      <td>40469.87</td>\n",
       "      <td>13235.83</td>\n",
       "      <td>67290.27</td>\n",
       "      <td>414.39</td>\n",
       "    </tr>\n",
       "    <tr>\n",
       "      <th>15</th>\n",
       "      <td>196227.77</td>\n",
       "      <td>-112629.47</td>\n",
       "      <td>16076.58</td>\n",
       "      <td>18642.76</td>\n",
       "      <td>-33259.24</td>\n",
       "      <td>-716245.35</td>\n",
       "      <td>536123.76</td>\n",
       "      <td>232173.34</td>\n",
       "      <td>-140750.36</td>\n",
       "      <td>134357.18</td>\n",
       "      <td>40469.87</td>\n",
       "      <td>13235.83</td>\n",
       "      <td>67290.27</td>\n",
       "    </tr>\n",
       "  </tbody>\n",
       "</table>\n",
       "</div>"
      ],
      "text/plain": [
       "    sales_diff    month_1    month_2    month_3    month_4    month_5  \\\n",
       "12    18642.76  -33259.24 -716245.35  536123.76  232173.34 -140750.36   \n",
       "13    16076.58   18642.76  -33259.24 -716245.35  536123.76  232173.34   \n",
       "14  -112629.47   16076.58   18642.76  -33259.24 -716245.35  536123.76   \n",
       "15   196227.77 -112629.47   16076.58   18642.76  -33259.24 -716245.35   \n",
       "\n",
       "      month_6    month_7    month_8    month_9  month_10   month_11   month_12  \n",
       "12  134357.18   40469.87   13235.83   67290.27    414.39 -105685.80   -5157.89  \n",
       "13 -140750.36  134357.18   40469.87   13235.83  67290.27     414.39 -105685.80  \n",
       "14  232173.34 -140750.36  134357.18   40469.87  13235.83   67290.27     414.39  \n",
       "15  536123.76  232173.34 -140750.36  134357.18  40469.87   13235.83   67290.27  "
      ]
     },
     "execution_count": 33,
     "metadata": {},
     "output_type": "execute_result"
    }
   ],
   "source": [
    "test_data"
   ]
  },
  {
   "cell_type": "code",
   "execution_count": 34,
   "id": "017a7207-fce8-4c42-a36d-cb8b230cd1af",
   "metadata": {},
   "outputs": [],
   "source": [
    "#use min-max scalar to scale the feature values to restrict them from 1 to -1\n",
    "scaler = MinMaxScaler(feature_range=(-1, 1))\n",
    "scaler.fit(train_data)\n",
    "train_data = scaler.transform(train_data)\n",
    "test_data = scaler.transform(test_data)"
   ]
  },
  {
   "cell_type": "code",
   "execution_count": 35,
   "id": "936daa66-fa48-48e2-8d98-87ea7b159602",
   "metadata": {},
   "outputs": [],
   "source": [
    "#in the supervised data frame the first coloumn correspond to output and the remeaning coloumns act as input feature\n",
    "# Splitting data into input and output\n",
    "x_train, y_train = train_data[:, 1:], train_data[:, 0]#y is the output ,x is the input\n",
    "x_test, y_test = test_data[:, 1:], test_data[:, 0]"
   ]
  },
  {
   "cell_type": "code",
   "execution_count": 36,
   "id": "947a3fcd-479b-4b39-891d-433a9a674e29",
   "metadata": {},
   "outputs": [
    {
     "name": "stdout",
     "output_type": "stream",
     "text": [
      "x_train shape:  (12, 12)\n",
      "y_train shape:  (12,)\n",
      "x_test shape:  (4, 12)\n",
      "y_test shape:  (4,)\n"
     ]
    }
   ],
   "source": [
    "print(\"x_train shape: \", x_train.shape)\n",
    "print(\"y_train shape: \", y_train.shape)\n",
    "print(\"x_test shape: \", x_test.shape)\n",
    "print(\"y_test shape: \", y_test.shape)"
   ]
  },
  {
   "cell_type": "code",
   "execution_count": 37,
   "id": "686c3017-cf9a-453e-8901-a409d4187fc5",
   "metadata": {},
   "outputs": [
    {
     "data": {
      "text/plain": [
       "(28,)"
      ]
     },
     "execution_count": 37,
     "metadata": {},
     "output_type": "execute_result"
    }
   ],
   "source": [
    "#make prediction dataframe in order to merge all the predicted sale price of all the trained algorithms\n",
    "monthly_sales['ORDER DATE'].shape"
   ]
  },
  {
   "cell_type": "code",
   "execution_count": 54,
   "id": "2848603a-5f95-47cb-82b5-eb67b9bb2ddb",
   "metadata": {},
   "outputs": [],
   "source": [
    "sales_dates=monthly_sales['ORDER DATE'][-4:].reset_index(drop=True)\n",
    "predict_df=pd.DataFrame(sales_dates)"
   ]
  },
  {
   "cell_type": "code",
   "execution_count": 80,
   "id": "f32682a6-64f2-4b0d-867a-a6a9840bd91f",
   "metadata": {},
   "outputs": [
    {
     "data": {
      "text/plain": [
       "(4, 2)"
      ]
     },
     "execution_count": 80,
     "metadata": {},
     "output_type": "execute_result"
    }
   ],
   "source": [
    "predict_df.head()\n",
    "predict_df.shape"
   ]
  },
  {
   "cell_type": "code",
   "execution_count": 58,
   "id": "5efd11e1-f12f-4dfc-b754-85a5be0d0572",
   "metadata": {},
   "outputs": [],
   "source": [
    "#extracting the actual monthly sales values of the last 5 month since they corresponds to test dataset \n",
    "#these values will be used to find the predicted sales prices from the predicted output for the monthly sales differences\n",
    "act_sales=monthly_sales['SALES'][-4:].to_list()"
   ]
  },
  {
   "cell_type": "code",
   "execution_count": 60,
   "id": "ec513e63-a08d-483d-8142-71bf06119774",
   "metadata": {},
   "outputs": [
    {
     "data": {
      "text/plain": [
       "[358186.18, 374262.76, 261633.29, 457861.06]"
      ]
     },
     "execution_count": 60,
     "metadata": {},
     "output_type": "execute_result"
    }
   ],
   "source": [
    "act_sales # the sales for the last 13 month"
   ]
  },
  {
   "cell_type": "markdown",
   "id": "16632e30-a86e-4f41-8baf-12858180265c",
   "metadata": {},
   "source": [
    "***Create the linear regression model***"
   ]
  },
  {
   "cell_type": "code",
   "execution_count": 62,
   "id": "119e7be1-1066-4b6d-a8a5-fd1228e23747",
   "metadata": {},
   "outputs": [],
   "source": [
    "lr_model=LinearRegression()\n",
    "lr_model.fit(x_train,y_train)\n",
    "lr_pre=lr_model.predict(x_test) #fit x and y train inside the model"
   ]
  },
  {
   "cell_type": "code",
   "execution_count": 64,
   "id": "acc94947-e663-4929-b545-3dcd8a570bd6",
   "metadata": {},
   "outputs": [],
   "source": [
    "#transform the predicted value to their original scale\n",
    "lr_pre=lr_pre.reshape(-1,1)\n",
    "#Test set matrix contains the input features for the test data and the predicted output\n",
    "lr_pre_test_set=np.concatenate((lr_pre,x_test),axis=1)\n",
    "lr_pre_test_set=scaler.inverse_transform(lr_pre_test_set)"
   ]
  },
  {
   "cell_type": "code",
   "execution_count": 66,
   "id": "e6cd2799-ae4c-4272-9bf4-cee1c0a89de3",
   "metadata": {},
   "outputs": [
    {
     "data": {
      "text/plain": [
       "0    398682.075256\n",
       "1    179291.116575\n",
       "2    211677.455749\n",
       "3    605110.412122\n",
       "Name: Linear prediction, dtype: float64"
      ]
     },
     "execution_count": 66,
     "metadata": {},
     "output_type": "execute_result"
    }
   ],
   "source": [
    "#calculate the predicted sales values \n",
    "result_list = []\n",
    "for index in range(0,len(lr_pre_test_set)):\n",
    "    result_list.append(lr_pre_test_set[index][0] + act_sales[index])\n",
    "\n",
    "lr_pre_series = pd.Series(result_list, name='Linear prediction') \n",
    "lr_pre_series\n"
   ]
  },
  {
   "cell_type": "code",
   "execution_count": 68,
   "id": "51bc48cc-c9c1-4d76-a787-018c7fdeecf3",
   "metadata": {},
   "outputs": [
    {
     "data": {
      "text/plain": [
       "(4, 2)"
      ]
     },
     "execution_count": 68,
     "metadata": {},
     "output_type": "execute_result"
    }
   ],
   "source": [
    "# Merging with prediction DataFrame\n",
    "predict_df = predict_df.merge(lr_pre_series ,left_index=True,right_index=True)\n",
    "predict_df.shape"
   ]
  },
  {
   "cell_type": "code",
   "execution_count": 70,
   "id": "16f8c3f2-bba9-4967-9429-d67e56b9c313",
   "metadata": {},
   "outputs": [
    {
     "data": {
      "text/html": [
       "<div>\n",
       "<style scoped>\n",
       "    .dataframe tbody tr th:only-of-type {\n",
       "        vertical-align: middle;\n",
       "    }\n",
       "\n",
       "    .dataframe tbody tr th {\n",
       "        vertical-align: top;\n",
       "    }\n",
       "\n",
       "    .dataframe thead th {\n",
       "        text-align: right;\n",
       "    }\n",
       "</style>\n",
       "<table border=\"1\" class=\"dataframe\">\n",
       "  <thead>\n",
       "    <tr style=\"text-align: right;\">\n",
       "      <th></th>\n",
       "      <th>ORDER DATE</th>\n",
       "      <th>Linear prediction</th>\n",
       "    </tr>\n",
       "  </thead>\n",
       "  <tbody>\n",
       "    <tr>\n",
       "      <th>0</th>\n",
       "      <td>2005-02-01</td>\n",
       "      <td>398682.075256</td>\n",
       "    </tr>\n",
       "    <tr>\n",
       "      <th>1</th>\n",
       "      <td>2005-03-01</td>\n",
       "      <td>179291.116575</td>\n",
       "    </tr>\n",
       "    <tr>\n",
       "      <th>2</th>\n",
       "      <td>2005-04-01</td>\n",
       "      <td>211677.455749</td>\n",
       "    </tr>\n",
       "    <tr>\n",
       "      <th>3</th>\n",
       "      <td>2005-05-01</td>\n",
       "      <td>605110.412122</td>\n",
       "    </tr>\n",
       "  </tbody>\n",
       "</table>\n",
       "</div>"
      ],
      "text/plain": [
       "  ORDER DATE  Linear prediction\n",
       "0 2005-02-01      398682.075256\n",
       "1 2005-03-01      179291.116575\n",
       "2 2005-04-01      211677.455749\n",
       "3 2005-05-01      605110.412122"
      ]
     },
     "execution_count": 70,
     "metadata": {},
     "output_type": "execute_result"
    }
   ],
   "source": [
    "predict_df"
   ]
  },
  {
   "cell_type": "code",
   "execution_count": 72,
   "id": "3bc5f0d5-4f39-4805-a4e8-b95f4520cbe4",
   "metadata": {},
   "outputs": [
    {
     "data": {
      "text/plain": [
       "(28,)"
      ]
     },
     "execution_count": 72,
     "metadata": {},
     "output_type": "execute_result"
    }
   ],
   "source": [
    "monthly_sales['SALES'].shape"
   ]
  },
  {
   "cell_type": "code",
   "execution_count": 74,
   "id": "587d6928-e9cf-4826-bff9-5f1aded6d633",
   "metadata": {},
   "outputs": [
    {
     "name": "stdout",
     "output_type": "stream",
     "text": [
      "Linear Regression MSE: 126324.79601078195\n",
      "Linear Regression MAE: 108168.18126346264\n",
      "Linear Regression R2 Score: 0.448389751205002\n"
     ]
    }
   ],
   "source": [
    "#comparing between the actual and predicted value to see the deviation\n",
    "# Model Evaluation\n",
    "lr_mse = np.sqrt(mean_squared_error(predict_df['Linear prediction'],monthly_sales['SALES'][-4:]))\n",
    "lr_mae = mean_absolute_error(predict_df['Linear prediction'], monthly_sales['SALES'][-4:])\n",
    "lr_r2 = r2_score(predict_df['Linear prediction'], monthly_sales['SALES'][-4:])\n",
    "\n",
    "print(f\"Linear Regression MSE: {lr_mse}\")\n",
    "print(f\"Linear Regression MAE: {lr_mae}\")\n",
    "print(f\"Linear Regression R2 Score: {lr_r2}\")"
   ]
  },
  {
   "cell_type": "markdown",
   "id": "98f4bc9f-309b-4ee8-ba09-d6eb5e4ac6fc",
   "metadata": {},
   "source": [
    "## Plotting actual sales vs predicted sales"
   ]
  },
  {
   "cell_type": "code",
   "execution_count": 76,
   "id": "569398ac-a5bc-4c84-bc0d-0c9bb1f8ee0f",
   "metadata": {},
   "outputs": [
    {
     "data": {
      "image/png": "[encoded data removed]",
      "text/plain": [
       "<Figure size 1500x500 with 1 Axes>"
      ]
     },
     "metadata": {},
     "output_type": "display_data"
    }
   ],
   "source": [
    "plt.figure(figsize=(15, 5))\n",
    "plt.plot(monthly_sales['ORDER DATE'], monthly_sales['SALES'])\n",
    "plt.plot(predict_df['ORDER DATE'], predict_df['Linear prediction'], linestyle='--')\n",
    "plt.title('Actual Sales vs Predicted Sales')\n",
    "plt.xlabel('Date')\n",
    "plt.ylabel('Sales')\n",
    "plt.legend(['actual sales','predicted sales'])\n",
    "plt.show()"
   ]
  },
  {
   "cell_type": "code",
   "execution_count": null,
   "id": "53417e88-1bfd-48ad-9ab5-97487bc29832",
   "metadata": {},
   "outputs": [],
   "source": [
    "'''def create_supervised(data, lag=1):\n",
    "    df = pd.DataFrame(data)\n",
    "    columns = [df.shift(i) for i in range(1, lag+1)]\n",
    "    columns.append(df)\n",
    "    df = pd.concat(columns, axis=1)\n",
    "    df.fillna(0, inplace=True)\n",
    "    return df\n",
    "\n",
    "# Creating supervised data for the last 24 months\n",
    "supervised_data = create_supervised(supervised_data['sales_diff'], 12)'''"
   ]
  }
 ],
 "metadata": {
  "kernelspec": {
   "display_name": "Python 3 (ipykernel)",
   "language": "python",
   "name": "python3"
  },
  "language_info": {
   "codemirror_mode": {
    "name": "ipython",
    "version": 3
   },
   "file_extension": ".py",
   "mimetype": "text/x-python",
   "name": "python",
   "nbconvert_exporter": "python",
   "pygments_lexer": "ipython3",
   "version": "3.12.4"
  }
 },
 "nbformat": 4,
 "nbformat_minor": 5
}
