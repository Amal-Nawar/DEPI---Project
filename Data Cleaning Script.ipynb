{
  "nbformat": 4,
  "nbformat_minor": 0,
  "metadata": {
    "colab": {
      "provenance": []
    },
    "kernelspec": {
      "name": "python3",
      "display_name": "Python 3"
    },
    "language_info": {
      "name": "python"
    }
  },
  "cells": [
    {
      "cell_type": "markdown",
      "source": [
        "# **Data cleaning and transforming **"
      ],
      "metadata": {
        "id": "5l7HG2vmLQGc"
      }
    },
    {
      "cell_type": "code",
      "execution_count": null,
      "metadata": {
        "id": "K-MiypOOLEqZ"
      },
      "outputs": [],
      "source": [
        "# import all the needed libraries\n",
        "import numpy as np\n",
        "import pandas as pd\n",
        "import matplotlib.pyplot as plt\n",
        "import seaborn as sns\n",
        "import datetime as dt\n",
        "\n",
        "df = pd.read_csv('/content/drive/MyDrive/sales_data_sample.csv',  encoding='latin-1')\n",
        "\n",
        "df['ORDER NUMBER'] = df['ORDER NUMBER'].astype('str')\n",
        "\n",
        "df['ORDER DATE'] = pd.to_datetime(df['ORDER DATE']) # Convert 'ORDER DATE' to datetime (Standardizing Data Format)\n",
        "\n",
        "df.info()\n"
      ]
    },
    {
      "cell_type": "code",
      "source": [
        "df.isnull().sum()\n",
        "# this step to be certain how many coulmn we have that has high number of nulls"
      ],
      "metadata": {
        "id": "_2zppUTQLeYc"
      },
      "execution_count": null,
      "outputs": []
    },
    {
      "cell_type": "code",
      "source": [
        "# to Filter Rows with Missing 'TERRITORY'\n",
        "# Identify Unique Countries with Missing 'TERRITORY'\n",
        "Null_territory = df[df['TERRITORY'].isna()]\n",
        "countries_with_Null_territory = Null_territory['COUNTRY'].unique()\n",
        "print(countries_with_Null_territory)"
      ],
      "metadata": {
        "id": "ZTUiQ521Lvvt"
      },
      "execution_count": null,
      "outputs": []
    },
    {
      "cell_type": "code",
      "source": [
        "#The USA and Canada  belong to the same Territory \"AMER\" we can fill the missing values up with ''AMER'\n",
        "df[\"TERRITORY\"] = df[\"TERRITORY\"].fillna(\"AMER\")"
      ],
      "metadata": {
        "id": "zFjbhvugLzyi"
      },
      "execution_count": null,
      "outputs": []
    },
    {
      "cell_type": "code",
      "source": [
        "df['TERRITORY'].unique()\n",
        "#after filling up the missing territory values 'AMER' was add to the territory list\n",
        "# USA and japan are countries not territories so it will have to be replaced"
      ],
      "metadata": {
        "id": "niWhnapAL3En"
      },
      "execution_count": null,
      "outputs": []
    },
    {
      "cell_type": "code",
      "source": [
        "df['TERRITORY']= df['TERRITORY'].replace('USA','AMER')\n",
        "df['TERRITORY']= df['TERRITORY'].replace('Japan','APAC')\n",
        "df['TERRITORY'].unique()\n",
        "#japan belongs to APAC territory and USA belongs to AMER so they were replaced with APAC and AMER"
      ],
      "metadata": {
        "id": "ReggeH6DL827"
      },
      "execution_count": null,
      "outputs": []
    },
    {
      "cell_type": "code",
      "source": [
        "Null_states = df[df['STATE'].isna()]\n",
        "\n",
        "countries_with_Null_state = Null_states['COUNTRY'].unique()\n",
        "print(countries_with_Null_state)\n",
        "# we have many countries with high number of missing states and it will be hard to identify each missing state and it won't affect our analysis so no need\n",
        "#for the state column"
      ],
      "metadata": {
        "id": "Z5QLP6X8MA-B"
      },
      "execution_count": null,
      "outputs": []
    },
    {
      "cell_type": "code",
      "source": [
        "# Remove the unnecessary coulmns\n",
        "df= df.drop(['PHONE','STATE', 'POSTALCODE'\n",
        ",'CONTACTLASTNAME','CONTACTFIRSTNAME','ADDRESSLINE1','ADDRESSLINE2'], axis=1)\n",
        "\n",
        "df.head()"
      ],
      "metadata": {
        "id": "IJq7eSHuMDsd"
      },
      "execution_count": null,
      "outputs": []
    }
  ]
}